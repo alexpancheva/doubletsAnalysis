{
 "cells": [
  {
   "cell_type": "code",
   "execution_count": 5,
   "metadata": {},
   "outputs": [],
   "source": [
    "import numpy as np\n",
    "import pandas as pd\n",
    "import scipy.io\n",
    "import matplotlib.pyplot as plt\n",
    "import matplotlib.patches as mpatches\n",
    "import seaborn as sb\n",
    "from scipy.stats import entropy\n",
    "import sys\n",
    "sys.path.append('../')\n",
    "from entropyClass import EntropyAnalysis"
   ]
  },
  {
   "cell_type": "markdown",
   "metadata": {},
   "source": [
    "### Aims\n",
    "\n",
    "This notebook aims to evaluate the ability of LDA to distinguish doublets: \n",
    "\n",
    "* Aim 1: Do we indeed get higher entropy for doublets of the two cell types?\n",
    "\n",
    "* Aim 2: Can we actually distinguish doublets if we interpret the topics and link topics to a cell type?"
   ]
  },
  {
   "cell_type": "code",
   "execution_count": 3,
   "metadata": {},
   "outputs": [],
   "source": [
    "synthetic_data = EntropyAnalysis(\"doublets_original.csv\")"
   ]
  },
  {
   "cell_type": "code",
   "execution_count": 4,
   "metadata": {},
   "outputs": [
    {
     "data": {
      "text/html": [
       "<div>\n",
       "<style scoped>\n",
       "    .dataframe tbody tr th:only-of-type {\n",
       "        vertical-align: middle;\n",
       "    }\n",
       "\n",
       "    .dataframe tbody tr th {\n",
       "        vertical-align: top;\n",
       "    }\n",
       "\n",
       "    .dataframe thead th {\n",
       "        text-align: right;\n",
       "    }\n",
       "</style>\n",
       "<table border=\"1\" class=\"dataframe\">\n",
       "  <thead>\n",
       "    <tr style=\"text-align: right;\">\n",
       "      <th></th>\n",
       "      <th>AL627309.1</th>\n",
       "      <th>AP006222.2</th>\n",
       "      <th>RP11-206L10.2</th>\n",
       "      <th>RP11-206L10.9</th>\n",
       "      <th>LINC00115</th>\n",
       "      <th>NOC2L</th>\n",
       "      <th>KLHL17</th>\n",
       "      <th>PLEKHN1</th>\n",
       "      <th>RP11-54O7.17</th>\n",
       "      <th>HES4</th>\n",
       "      <th>...</th>\n",
       "      <th>MT-ND4L</th>\n",
       "      <th>MT-ND4</th>\n",
       "      <th>MT-ND5</th>\n",
       "      <th>MT-ND6</th>\n",
       "      <th>MT-CYB</th>\n",
       "      <th>AC145212.1</th>\n",
       "      <th>AL592183.1</th>\n",
       "      <th>AL354822.1</th>\n",
       "      <th>PNRC2.1</th>\n",
       "      <th>SRSF10.1</th>\n",
       "    </tr>\n",
       "  </thead>\n",
       "  <tbody>\n",
       "    <tr>\n",
       "      <th>AAACATACAACCAC</th>\n",
       "      <td>0.0</td>\n",
       "      <td>0.0</td>\n",
       "      <td>0.0</td>\n",
       "      <td>0.0</td>\n",
       "      <td>0.0</td>\n",
       "      <td>0.0</td>\n",
       "      <td>0.0</td>\n",
       "      <td>0.0</td>\n",
       "      <td>0.0</td>\n",
       "      <td>0.0</td>\n",
       "      <td>...</td>\n",
       "      <td>0.0</td>\n",
       "      <td>10.0</td>\n",
       "      <td>1.0</td>\n",
       "      <td>0.0</td>\n",
       "      <td>4.0</td>\n",
       "      <td>0.0</td>\n",
       "      <td>0.0</td>\n",
       "      <td>0.0</td>\n",
       "      <td>0.0</td>\n",
       "      <td>0.0</td>\n",
       "    </tr>\n",
       "    <tr>\n",
       "      <th>AAACATTGAGCTAC</th>\n",
       "      <td>0.0</td>\n",
       "      <td>0.0</td>\n",
       "      <td>0.0</td>\n",
       "      <td>0.0</td>\n",
       "      <td>0.0</td>\n",
       "      <td>0.0</td>\n",
       "      <td>0.0</td>\n",
       "      <td>0.0</td>\n",
       "      <td>0.0</td>\n",
       "      <td>0.0</td>\n",
       "      <td>...</td>\n",
       "      <td>0.0</td>\n",
       "      <td>33.0</td>\n",
       "      <td>1.0</td>\n",
       "      <td>0.0</td>\n",
       "      <td>8.0</td>\n",
       "      <td>0.0</td>\n",
       "      <td>1.0</td>\n",
       "      <td>0.0</td>\n",
       "      <td>0.0</td>\n",
       "      <td>0.0</td>\n",
       "    </tr>\n",
       "    <tr>\n",
       "      <th>AAACATTGATCAGC</th>\n",
       "      <td>0.0</td>\n",
       "      <td>0.0</td>\n",
       "      <td>0.0</td>\n",
       "      <td>0.0</td>\n",
       "      <td>0.0</td>\n",
       "      <td>0.0</td>\n",
       "      <td>0.0</td>\n",
       "      <td>0.0</td>\n",
       "      <td>0.0</td>\n",
       "      <td>0.0</td>\n",
       "      <td>...</td>\n",
       "      <td>0.0</td>\n",
       "      <td>3.0</td>\n",
       "      <td>2.0</td>\n",
       "      <td>0.0</td>\n",
       "      <td>4.0</td>\n",
       "      <td>0.0</td>\n",
       "      <td>0.0</td>\n",
       "      <td>0.0</td>\n",
       "      <td>0.0</td>\n",
       "      <td>0.0</td>\n",
       "    </tr>\n",
       "    <tr>\n",
       "      <th>AAACCGTGCTTCCG</th>\n",
       "      <td>0.0</td>\n",
       "      <td>0.0</td>\n",
       "      <td>0.0</td>\n",
       "      <td>0.0</td>\n",
       "      <td>0.0</td>\n",
       "      <td>0.0</td>\n",
       "      <td>0.0</td>\n",
       "      <td>0.0</td>\n",
       "      <td>0.0</td>\n",
       "      <td>0.0</td>\n",
       "      <td>...</td>\n",
       "      <td>1.0</td>\n",
       "      <td>3.0</td>\n",
       "      <td>2.0</td>\n",
       "      <td>0.0</td>\n",
       "      <td>2.0</td>\n",
       "      <td>0.0</td>\n",
       "      <td>0.0</td>\n",
       "      <td>0.0</td>\n",
       "      <td>0.0</td>\n",
       "      <td>0.0</td>\n",
       "    </tr>\n",
       "    <tr>\n",
       "      <th>AAACCGTGTATGCG</th>\n",
       "      <td>0.0</td>\n",
       "      <td>0.0</td>\n",
       "      <td>0.0</td>\n",
       "      <td>0.0</td>\n",
       "      <td>0.0</td>\n",
       "      <td>0.0</td>\n",
       "      <td>0.0</td>\n",
       "      <td>0.0</td>\n",
       "      <td>0.0</td>\n",
       "      <td>0.0</td>\n",
       "      <td>...</td>\n",
       "      <td>0.0</td>\n",
       "      <td>0.0</td>\n",
       "      <td>2.0</td>\n",
       "      <td>0.0</td>\n",
       "      <td>1.0</td>\n",
       "      <td>0.0</td>\n",
       "      <td>0.0</td>\n",
       "      <td>0.0</td>\n",
       "      <td>0.0</td>\n",
       "      <td>0.0</td>\n",
       "    </tr>\n",
       "    <tr>\n",
       "      <th>...</th>\n",
       "      <td>...</td>\n",
       "      <td>...</td>\n",
       "      <td>...</td>\n",
       "      <td>...</td>\n",
       "      <td>...</td>\n",
       "      <td>...</td>\n",
       "      <td>...</td>\n",
       "      <td>...</td>\n",
       "      <td>...</td>\n",
       "      <td>...</td>\n",
       "      <td>...</td>\n",
       "      <td>...</td>\n",
       "      <td>...</td>\n",
       "      <td>...</td>\n",
       "      <td>...</td>\n",
       "      <td>...</td>\n",
       "      <td>...</td>\n",
       "      <td>...</td>\n",
       "      <td>...</td>\n",
       "      <td>...</td>\n",
       "      <td>...</td>\n",
       "    </tr>\n",
       "    <tr>\n",
       "      <th>T_B_doublet296</th>\n",
       "      <td>0.0</td>\n",
       "      <td>0.0</td>\n",
       "      <td>0.0</td>\n",
       "      <td>0.0</td>\n",
       "      <td>0.0</td>\n",
       "      <td>0.0</td>\n",
       "      <td>0.0</td>\n",
       "      <td>0.0</td>\n",
       "      <td>0.0</td>\n",
       "      <td>0.0</td>\n",
       "      <td>...</td>\n",
       "      <td>0.0</td>\n",
       "      <td>4.5</td>\n",
       "      <td>0.0</td>\n",
       "      <td>0.5</td>\n",
       "      <td>3.0</td>\n",
       "      <td>0.0</td>\n",
       "      <td>0.5</td>\n",
       "      <td>0.0</td>\n",
       "      <td>0.0</td>\n",
       "      <td>0.0</td>\n",
       "    </tr>\n",
       "    <tr>\n",
       "      <th>T_B_doublet297</th>\n",
       "      <td>0.0</td>\n",
       "      <td>0.0</td>\n",
       "      <td>0.0</td>\n",
       "      <td>0.0</td>\n",
       "      <td>0.0</td>\n",
       "      <td>0.0</td>\n",
       "      <td>0.0</td>\n",
       "      <td>0.0</td>\n",
       "      <td>0.0</td>\n",
       "      <td>0.0</td>\n",
       "      <td>...</td>\n",
       "      <td>0.0</td>\n",
       "      <td>2.5</td>\n",
       "      <td>0.0</td>\n",
       "      <td>0.0</td>\n",
       "      <td>2.5</td>\n",
       "      <td>0.0</td>\n",
       "      <td>0.5</td>\n",
       "      <td>0.0</td>\n",
       "      <td>0.0</td>\n",
       "      <td>0.0</td>\n",
       "    </tr>\n",
       "    <tr>\n",
       "      <th>T_B_doublet298</th>\n",
       "      <td>0.0</td>\n",
       "      <td>0.0</td>\n",
       "      <td>0.0</td>\n",
       "      <td>0.0</td>\n",
       "      <td>0.0</td>\n",
       "      <td>0.0</td>\n",
       "      <td>0.0</td>\n",
       "      <td>0.0</td>\n",
       "      <td>0.0</td>\n",
       "      <td>0.0</td>\n",
       "      <td>...</td>\n",
       "      <td>0.0</td>\n",
       "      <td>3.0</td>\n",
       "      <td>0.0</td>\n",
       "      <td>0.0</td>\n",
       "      <td>3.5</td>\n",
       "      <td>0.0</td>\n",
       "      <td>0.0</td>\n",
       "      <td>0.0</td>\n",
       "      <td>0.0</td>\n",
       "      <td>0.0</td>\n",
       "    </tr>\n",
       "    <tr>\n",
       "      <th>T_B_doublet299</th>\n",
       "      <td>0.0</td>\n",
       "      <td>0.0</td>\n",
       "      <td>0.0</td>\n",
       "      <td>0.0</td>\n",
       "      <td>0.0</td>\n",
       "      <td>0.0</td>\n",
       "      <td>0.0</td>\n",
       "      <td>0.0</td>\n",
       "      <td>0.0</td>\n",
       "      <td>0.0</td>\n",
       "      <td>...</td>\n",
       "      <td>0.0</td>\n",
       "      <td>2.5</td>\n",
       "      <td>0.5</td>\n",
       "      <td>0.0</td>\n",
       "      <td>5.5</td>\n",
       "      <td>0.0</td>\n",
       "      <td>0.5</td>\n",
       "      <td>0.0</td>\n",
       "      <td>0.0</td>\n",
       "      <td>0.0</td>\n",
       "    </tr>\n",
       "    <tr>\n",
       "      <th>T_B_doublet300</th>\n",
       "      <td>0.0</td>\n",
       "      <td>0.0</td>\n",
       "      <td>0.0</td>\n",
       "      <td>0.0</td>\n",
       "      <td>0.0</td>\n",
       "      <td>0.5</td>\n",
       "      <td>0.0</td>\n",
       "      <td>0.0</td>\n",
       "      <td>0.0</td>\n",
       "      <td>0.0</td>\n",
       "      <td>...</td>\n",
       "      <td>0.5</td>\n",
       "      <td>7.5</td>\n",
       "      <td>4.0</td>\n",
       "      <td>0.0</td>\n",
       "      <td>6.0</td>\n",
       "      <td>0.0</td>\n",
       "      <td>0.0</td>\n",
       "      <td>0.0</td>\n",
       "      <td>0.0</td>\n",
       "      <td>0.0</td>\n",
       "    </tr>\n",
       "  </tbody>\n",
       "</table>\n",
       "<p>3388 rows × 13714 columns</p>\n",
       "</div>"
      ],
      "text/plain": [
       "                AL627309.1  AP006222.2  RP11-206L10.2  RP11-206L10.9  \\\n",
       "AAACATACAACCAC         0.0         0.0            0.0            0.0   \n",
       "AAACATTGAGCTAC         0.0         0.0            0.0            0.0   \n",
       "AAACATTGATCAGC         0.0         0.0            0.0            0.0   \n",
       "AAACCGTGCTTCCG         0.0         0.0            0.0            0.0   \n",
       "AAACCGTGTATGCG         0.0         0.0            0.0            0.0   \n",
       "...                    ...         ...            ...            ...   \n",
       "T_B_doublet296         0.0         0.0            0.0            0.0   \n",
       "T_B_doublet297         0.0         0.0            0.0            0.0   \n",
       "T_B_doublet298         0.0         0.0            0.0            0.0   \n",
       "T_B_doublet299         0.0         0.0            0.0            0.0   \n",
       "T_B_doublet300         0.0         0.0            0.0            0.0   \n",
       "\n",
       "                LINC00115  NOC2L  KLHL17  PLEKHN1  RP11-54O7.17  HES4  ...  \\\n",
       "AAACATACAACCAC        0.0    0.0     0.0      0.0           0.0   0.0  ...   \n",
       "AAACATTGAGCTAC        0.0    0.0     0.0      0.0           0.0   0.0  ...   \n",
       "AAACATTGATCAGC        0.0    0.0     0.0      0.0           0.0   0.0  ...   \n",
       "AAACCGTGCTTCCG        0.0    0.0     0.0      0.0           0.0   0.0  ...   \n",
       "AAACCGTGTATGCG        0.0    0.0     0.0      0.0           0.0   0.0  ...   \n",
       "...                   ...    ...     ...      ...           ...   ...  ...   \n",
       "T_B_doublet296        0.0    0.0     0.0      0.0           0.0   0.0  ...   \n",
       "T_B_doublet297        0.0    0.0     0.0      0.0           0.0   0.0  ...   \n",
       "T_B_doublet298        0.0    0.0     0.0      0.0           0.0   0.0  ...   \n",
       "T_B_doublet299        0.0    0.0     0.0      0.0           0.0   0.0  ...   \n",
       "T_B_doublet300        0.0    0.5     0.0      0.0           0.0   0.0  ...   \n",
       "\n",
       "                MT-ND4L  MT-ND4  MT-ND5  MT-ND6  MT-CYB  AC145212.1  \\\n",
       "AAACATACAACCAC      0.0    10.0     1.0     0.0     4.0         0.0   \n",
       "AAACATTGAGCTAC      0.0    33.0     1.0     0.0     8.0         0.0   \n",
       "AAACATTGATCAGC      0.0     3.0     2.0     0.0     4.0         0.0   \n",
       "AAACCGTGCTTCCG      1.0     3.0     2.0     0.0     2.0         0.0   \n",
       "AAACCGTGTATGCG      0.0     0.0     2.0     0.0     1.0         0.0   \n",
       "...                 ...     ...     ...     ...     ...         ...   \n",
       "T_B_doublet296      0.0     4.5     0.0     0.5     3.0         0.0   \n",
       "T_B_doublet297      0.0     2.5     0.0     0.0     2.5         0.0   \n",
       "T_B_doublet298      0.0     3.0     0.0     0.0     3.5         0.0   \n",
       "T_B_doublet299      0.0     2.5     0.5     0.0     5.5         0.0   \n",
       "T_B_doublet300      0.5     7.5     4.0     0.0     6.0         0.0   \n",
       "\n",
       "                AL592183.1  AL354822.1  PNRC2.1  SRSF10.1  \n",
       "AAACATACAACCAC         0.0         0.0      0.0       0.0  \n",
       "AAACATTGAGCTAC         1.0         0.0      0.0       0.0  \n",
       "AAACATTGATCAGC         0.0         0.0      0.0       0.0  \n",
       "AAACCGTGCTTCCG         0.0         0.0      0.0       0.0  \n",
       "AAACCGTGTATGCG         0.0         0.0      0.0       0.0  \n",
       "...                    ...         ...      ...       ...  \n",
       "T_B_doublet296         0.5         0.0      0.0       0.0  \n",
       "T_B_doublet297         0.5         0.0      0.0       0.0  \n",
       "T_B_doublet298         0.0         0.0      0.0       0.0  \n",
       "T_B_doublet299         0.5         0.0      0.0       0.0  \n",
       "T_B_doublet300         0.0         0.0      0.0       0.0  \n",
       "\n",
       "[3388 rows x 13714 columns]"
      ]
     },
     "execution_count": 4,
     "metadata": {},
     "output_type": "execute_result"
    }
   ],
   "source": [
    "synthetic_data.counts"
   ]
  },
  {
   "cell_type": "code",
   "execution_count": 9,
   "metadata": {},
   "outputs": [
    {
     "data": {
      "text/plain": [
       "[<matplotlib.lines.Line2D at 0x7fcfb3a99940>]"
      ]
     },
     "execution_count": 9,
     "metadata": {},
     "output_type": "execute_result"
    },
    {
     "data": {
      "image/png": "[encoded data removed]",
      "text/plain": [
       "<Figure size 432x288 with 1 Axes>"
      ]
     },
     "metadata": {},
     "output_type": "display_data"
    }
   ],
   "source": [
    "#quite an easy example here I suppose if we look at genes and cells total counts and number of genes\n",
    "plt.plot(synthetic_data.counts.sum(axis=1),synthetic_data.counts.astype(bool).sum(axis=1),'o')"
   ]
  },
  {
   "cell_type": "code",
   "execution_count": 10,
   "metadata": {},
   "outputs": [],
   "source": [
    "### group cells by celltypes and annotate: are there topics that are cell type specific \n",
    "\n",
    "metadata = pd.read_csv(\"meta_data_original_cells.csv\")"
   ]
  },
  {
   "cell_type": "code",
   "execution_count": 12,
   "metadata": {},
   "outputs": [
    {
     "data": {
      "text/html": [
       "<div>\n",
       "<style scoped>\n",
       "    .dataframe tbody tr th:only-of-type {\n",
       "        vertical-align: middle;\n",
       "    }\n",
       "\n",
       "    .dataframe tbody tr th {\n",
       "        vertical-align: top;\n",
       "    }\n",
       "\n",
       "    .dataframe thead th {\n",
       "        text-align: right;\n",
       "    }\n",
       "</style>\n",
       "<table border=\"1\" class=\"dataframe\">\n",
       "  <thead>\n",
       "    <tr style=\"text-align: right;\">\n",
       "      <th></th>\n",
       "      <th>Unnamed: 0</th>\n",
       "      <th>orig.ident</th>\n",
       "      <th>nCount_RNA</th>\n",
       "      <th>nFeature_RNA</th>\n",
       "      <th>seurat_annotations</th>\n",
       "      <th>percent.mt</th>\n",
       "      <th>RNA_snn_res.0.5</th>\n",
       "      <th>seurat_clusters</th>\n",
       "    </tr>\n",
       "  </thead>\n",
       "  <tbody>\n",
       "    <tr>\n",
       "      <th>0</th>\n",
       "      <td>AAACATACAACCAC</td>\n",
       "      <td>pbmc3k</td>\n",
       "      <td>2419</td>\n",
       "      <td>779</td>\n",
       "      <td>Memory CD4 T</td>\n",
       "      <td>3.017776</td>\n",
       "      <td>0</td>\n",
       "      <td>0</td>\n",
       "    </tr>\n",
       "    <tr>\n",
       "      <th>1</th>\n",
       "      <td>AAACATTGAGCTAC</td>\n",
       "      <td>pbmc3k</td>\n",
       "      <td>4903</td>\n",
       "      <td>1352</td>\n",
       "      <td>B</td>\n",
       "      <td>3.793596</td>\n",
       "      <td>3</td>\n",
       "      <td>3</td>\n",
       "    </tr>\n",
       "    <tr>\n",
       "      <th>2</th>\n",
       "      <td>AAACATTGATCAGC</td>\n",
       "      <td>pbmc3k</td>\n",
       "      <td>3147</td>\n",
       "      <td>1129</td>\n",
       "      <td>Memory CD4 T</td>\n",
       "      <td>0.889736</td>\n",
       "      <td>2</td>\n",
       "      <td>2</td>\n",
       "    </tr>\n",
       "    <tr>\n",
       "      <th>3</th>\n",
       "      <td>AAACCGTGCTTCCG</td>\n",
       "      <td>pbmc3k</td>\n",
       "      <td>2639</td>\n",
       "      <td>960</td>\n",
       "      <td>CD14+ Mono</td>\n",
       "      <td>1.743085</td>\n",
       "      <td>1</td>\n",
       "      <td>1</td>\n",
       "    </tr>\n",
       "    <tr>\n",
       "      <th>4</th>\n",
       "      <td>AAACCGTGTATGCG</td>\n",
       "      <td>pbmc3k</td>\n",
       "      <td>980</td>\n",
       "      <td>521</td>\n",
       "      <td>NK</td>\n",
       "      <td>1.224490</td>\n",
       "      <td>6</td>\n",
       "      <td>6</td>\n",
       "    </tr>\n",
       "    <tr>\n",
       "      <th>...</th>\n",
       "      <td>...</td>\n",
       "      <td>...</td>\n",
       "      <td>...</td>\n",
       "      <td>...</td>\n",
       "      <td>...</td>\n",
       "      <td>...</td>\n",
       "      <td>...</td>\n",
       "      <td>...</td>\n",
       "    </tr>\n",
       "    <tr>\n",
       "      <th>2633</th>\n",
       "      <td>TTTCGAACTCTCAT</td>\n",
       "      <td>pbmc3k</td>\n",
       "      <td>3459</td>\n",
       "      <td>1153</td>\n",
       "      <td>CD14+ Mono</td>\n",
       "      <td>2.110437</td>\n",
       "      <td>1</td>\n",
       "      <td>1</td>\n",
       "    </tr>\n",
       "    <tr>\n",
       "      <th>2634</th>\n",
       "      <td>TTTCTACTGAGGCA</td>\n",
       "      <td>pbmc3k</td>\n",
       "      <td>3443</td>\n",
       "      <td>1224</td>\n",
       "      <td>B</td>\n",
       "      <td>0.929422</td>\n",
       "      <td>3</td>\n",
       "      <td>3</td>\n",
       "    </tr>\n",
       "    <tr>\n",
       "      <th>2635</th>\n",
       "      <td>TTTCTACTTCCTCG</td>\n",
       "      <td>pbmc3k</td>\n",
       "      <td>1684</td>\n",
       "      <td>622</td>\n",
       "      <td>B</td>\n",
       "      <td>2.197150</td>\n",
       "      <td>3</td>\n",
       "      <td>3</td>\n",
       "    </tr>\n",
       "    <tr>\n",
       "      <th>2636</th>\n",
       "      <td>TTTGCATGAGAGGC</td>\n",
       "      <td>pbmc3k</td>\n",
       "      <td>1022</td>\n",
       "      <td>452</td>\n",
       "      <td>B</td>\n",
       "      <td>2.054795</td>\n",
       "      <td>3</td>\n",
       "      <td>3</td>\n",
       "    </tr>\n",
       "    <tr>\n",
       "      <th>2637</th>\n",
       "      <td>TTTGCATGCCTCAC</td>\n",
       "      <td>pbmc3k</td>\n",
       "      <td>1984</td>\n",
       "      <td>723</td>\n",
       "      <td>Naive CD4 T</td>\n",
       "      <td>0.806452</td>\n",
       "      <td>0</td>\n",
       "      <td>0</td>\n",
       "    </tr>\n",
       "  </tbody>\n",
       "</table>\n",
       "<p>2638 rows × 8 columns</p>\n",
       "</div>"
      ],
      "text/plain": [
       "          Unnamed: 0 orig.ident  nCount_RNA  nFeature_RNA seurat_annotations  \\\n",
       "0     AAACATACAACCAC     pbmc3k        2419           779       Memory CD4 T   \n",
       "1     AAACATTGAGCTAC     pbmc3k        4903          1352                  B   \n",
       "2     AAACATTGATCAGC     pbmc3k        3147          1129       Memory CD4 T   \n",
       "3     AAACCGTGCTTCCG     pbmc3k        2639           960         CD14+ Mono   \n",
       "4     AAACCGTGTATGCG     pbmc3k         980           521                 NK   \n",
       "...              ...        ...         ...           ...                ...   \n",
       "2633  TTTCGAACTCTCAT     pbmc3k        3459          1153         CD14+ Mono   \n",
       "2634  TTTCTACTGAGGCA     pbmc3k        3443          1224                  B   \n",
       "2635  TTTCTACTTCCTCG     pbmc3k        1684           622                  B   \n",
       "2636  TTTGCATGAGAGGC     pbmc3k        1022           452                  B   \n",
       "2637  TTTGCATGCCTCAC     pbmc3k        1984           723        Naive CD4 T   \n",
       "\n",
       "      percent.mt  RNA_snn_res.0.5  seurat_clusters  \n",
       "0       3.017776                0                0  \n",
       "1       3.793596                3                3  \n",
       "2       0.889736                2                2  \n",
       "3       1.743085                1                1  \n",
       "4       1.224490                6                6  \n",
       "...          ...              ...              ...  \n",
       "2633    2.110437                1                1  \n",
       "2634    0.929422                3                3  \n",
       "2635    2.197150                3                3  \n",
       "2636    2.054795                3                3  \n",
       "2637    0.806452                0                0  \n",
       "\n",
       "[2638 rows x 8 columns]"
      ]
     },
     "execution_count": 12,
     "metadata": {},
     "output_type": "execute_result"
    }
   ],
   "source": [
    "metadata"
   ]
  },
  {
   "cell_type": "code",
   "execution_count": 14,
   "metadata": {},
   "outputs": [
    {
     "data": {
      "text/plain": [
       "Index([ ['B', 'Mono', 'doublet1'],  ['B', 'Mono', 'doublet2'],\n",
       "        ['B', 'Mono', 'doublet3'],  ['B', 'Mono', 'doublet4'],\n",
       "        ['B', 'Mono', 'doublet5'],  ['B', 'Mono', 'doublet6'],\n",
       "        ['B', 'Mono', 'doublet7'],  ['B', 'Mono', 'doublet8'],\n",
       "        ['B', 'Mono', 'doublet9'], ['B', 'Mono', 'doublet10'],\n",
       "       ...\n",
       "         ['T', 'B', 'doublet291'],   ['T', 'B', 'doublet292'],\n",
       "         ['T', 'B', 'doublet293'],   ['T', 'B', 'doublet294'],\n",
       "         ['T', 'B', 'doublet295'],   ['T', 'B', 'doublet296'],\n",
       "         ['T', 'B', 'doublet297'],   ['T', 'B', 'doublet298'],\n",
       "         ['T', 'B', 'doublet299'],   ['T', 'B', 'doublet300']],\n",
       "      dtype='object', length=750)"
      ]
     },
     "execution_count": 14,
     "metadata": {},
     "output_type": "execute_result"
    }
   ],
   "source": [
    "synthetic_data.counts.iloc[2638:].index.str.split(\"_\")"
   ]
  },
  {
   "cell_type": "code",
   "execution_count": 15,
   "metadata": {},
   "outputs": [],
   "source": [
    "cellNames = list(synthetic_data.counts.iloc[2638:].index)"
   ]
  },
  {
   "cell_type": "code",
   "execution_count": 16,
   "metadata": {},
   "outputs": [],
   "source": [
    "cellNamesFixed = [\" \".join(a.split(\"_\")[0:2]) for a in cellNames]"
   ]
  },
  {
   "cell_type": "code",
   "execution_count": 18,
   "metadata": {},
   "outputs": [],
   "source": [
    "metadata = metadata.append(list(synthetic_data.counts.iloc[2638:].index))"
   ]
  },
  {
   "cell_type": "code",
   "execution_count": 19,
   "metadata": {},
   "outputs": [
    {
     "name": "stderr",
     "output_type": "stream",
     "text": [
      "/software/anaconda3/lib/python3.6/site-packages/pandas/core/indexing.py:671: SettingWithCopyWarning: \n",
      "A value is trying to be set on a copy of a slice from a DataFrame\n",
      "\n",
      "See the caveats in the documentation: https://pandas.pydata.org/pandas-docs/stable/user_guide/indexing.html#returning-a-view-versus-a-copy\n",
      "  self._setitem_with_indexer(indexer, value)\n"
     ]
    }
   ],
   "source": [
    "metadata['seurat_annotations'].iloc[2638:] = cellNamesFixed"
   ]
  },
  {
   "cell_type": "code",
   "execution_count": 20,
   "metadata": {},
   "outputs": [
    {
     "name": "stderr",
     "output_type": "stream",
     "text": [
      "/software/anaconda3/lib/python3.6/site-packages/pandas/core/indexing.py:671: SettingWithCopyWarning: \n",
      "A value is trying to be set on a copy of a slice from a DataFrame\n",
      "\n",
      "See the caveats in the documentation: https://pandas.pydata.org/pandas-docs/stable/user_guide/indexing.html#returning-a-view-versus-a-copy\n",
      "  self._setitem_with_indexer(indexer, value)\n"
     ]
    }
   ],
   "source": [
    "metadata[0].iloc[:2638] = metadata['Unnamed: 0'][:2638]"
   ]
  },
  {
   "cell_type": "code",
   "execution_count": 21,
   "metadata": {},
   "outputs": [],
   "source": [
    "metadata = metadata.sort_values(by=\"seurat_annotations\")"
   ]
  },
  {
   "cell_type": "code",
   "execution_count": 22,
   "metadata": {},
   "outputs": [
    {
     "data": {
      "text/plain": [
       "'Memory CD4 T'"
      ]
     },
     "execution_count": 22,
     "metadata": {},
     "output_type": "execute_result"
    }
   ],
   "source": [
    "metadata.iloc[1881]['seurat_annotations']"
   ]
  },
  {
   "cell_type": "code",
   "execution_count": 23,
   "metadata": {},
   "outputs": [
    {
     "data": {
      "text/plain": [
       "array(['B', 'B Mono', 'CD14+ Mono', 'CD8 T', 'DC', 'FCGR3A+ Mono',\n",
       "       'Memory CD4 T', 'NK', 'Naive CD4 T', 'Platelet', 'T B', 'T Mono'],\n",
       "      dtype=object)"
      ]
     },
     "execution_count": 23,
     "metadata": {},
     "output_type": "execute_result"
    }
   ],
   "source": [
    "metadata['seurat_annotations'].unique()"
   ]
  },
  {
   "cell_type": "code",
   "execution_count": 29,
   "metadata": {},
   "outputs": [],
   "source": [
    "synthetic_data.preprocessing()"
   ]
  },
  {
   "cell_type": "code",
   "execution_count": 30,
   "metadata": {},
   "outputs": [],
   "source": [
    "n_topics = 20\n",
    "synthetic_data.fit_LDA(n_topics=n_topics,doc_topic_prior=1/20, topic_word_prior=10)"
   ]
  },
  {
   "cell_type": "code",
   "execution_count": 31,
   "metadata": {},
   "outputs": [],
   "source": [
    "synthetic_data.weights = synthetic_data.weights.reindex(metadata[0])"
   ]
  },
  {
   "cell_type": "code",
   "execution_count": 32,
   "metadata": {},
   "outputs": [],
   "source": [
    "entropyResults = pd.DataFrame(synthetic_data.calculateEntropy(),index=synthetic_data.counts.index)"
   ]
  },
  {
   "cell_type": "code",
   "execution_count": 33,
   "metadata": {},
   "outputs": [],
   "source": [
    "entropyResults = entropyResults.reindex(metadata[0])"
   ]
  },
  {
   "cell_type": "code",
   "execution_count": 34,
   "metadata": {},
   "outputs": [],
   "source": [
    "entropyResults['type'] = metadata['seurat_annotations'].values"
   ]
  },
  {
   "cell_type": "code",
   "execution_count": 35,
   "metadata": {},
   "outputs": [
    {
     "data": {
      "text/plain": [
       "0\n",
       "GGCAATACGCTAAC            B\n",
       "CAGTGATGGACGGA            B\n",
       "GAGTCTGATTTGGG            B\n",
       "CTATAAGATCGTTT            B\n",
       "CAGTGATGTAAGGA            B\n",
       "                      ...  \n",
       "T_Mono_doublet130    T Mono\n",
       "T_Mono_doublet129    T Mono\n",
       "T_Mono_doublet128    T Mono\n",
       "T_Mono_doublet138    T Mono\n",
       "T_Mono_doublet23     T Mono\n",
       "Name: type, Length: 3388, dtype: object"
      ]
     },
     "execution_count": 35,
     "metadata": {},
     "output_type": "execute_result"
    }
   ],
   "source": [
    "entropyResults[\"type\"]"
   ]
  },
  {
   "cell_type": "code",
   "execution_count": 53,
   "metadata": {},
   "outputs": [
    {
     "data": {
      "image/png": "[encoded data removed]",
      "text/plain": [
       "<Figure size 469.5x360 with 1 Axes>"
      ]
     },
     "metadata": {},
     "output_type": "display_data"
    }
   ],
   "source": [
    "plot = sb.displot(entropyResults[entropyResults[\"type\"].isin([\"T B\",\"B\",\"Memory CD4 T\",])],x=entropyResults[0],\n",
    "                           hue=\"type\",hue_order=[\"T B\",\"B\",\"Memory CD4 T\"],kind='kde', aspect=1)\n",
    "\n",
    "plt.setp(plot.legend.texts,fontsize=13)\n",
    "plt.setp(plot.legend.get_title(), fontsize=15)\n",
    "plt.xlabel(\"Entropy\",size=15)\n",
    "plt.ylabel(\"Density\",size=15)\n",
    "plt.savefig(\"T_B.png\",dpi=300)"
   ]
  },
  {
   "cell_type": "code",
   "execution_count": 52,
   "metadata": {},
   "outputs": [
    {
     "data": {
      "image/png": "[encoded data removed]",
      "text/plain": [
       "<Figure size 469.5x360 with 1 Axes>"
      ]
     },
     "metadata": {},
     "output_type": "display_data"
    }
   ],
   "source": [
    "plot2 = sb.displot(entropyResults[entropyResults[\"type\"].isin([\"T Mono\",\"Memory CD4 T\",\"CD14+ Mono\",])],x=entropyResults[0],\n",
    "                           hue=\"type\",hue_order=[\"T Mono\",\"Memory CD4 T\",\"CD14+ Mono\"],kind=\"kde\")\n",
    "plt.setp(plot2.legend.texts,fontsize=13)\n",
    "plt.setp(plot2.legend.get_title(), fontsize=15)\n",
    "plt.xlabel(\"Entropy\",size=15)\n",
    "plt.ylabel(\"Density\",size=15)\n",
    "plt.savefig(\"T_Mono.png\",dpi=300)\n"
   ]
  },
  {
   "cell_type": "code",
   "execution_count": 54,
   "metadata": {},
   "outputs": [
    {
     "data": {
      "image/png": "[encoded data removed]",
      "text/plain": [
       "<Figure size 461.75x360 with 1 Axes>"
      ]
     },
     "metadata": {},
     "output_type": "display_data"
    }
   ],
   "source": [
    "plot3 = sb.displot(entropyResults[entropyResults[\"type\"].isin([\"B Mono\",\"B\",\"CD14+ Mono\",])],x=entropyResults[0],\n",
    "                           hue=\"type\",hue_order=[\"B Mono\",\"B\",\"CD14+ Mono\"],kind=\"kde\")\n",
    "\n",
    "plt.setp(plot3.legend.texts,fontsize=13)\n",
    "plt.setp(plot3.legend.get_title(), fontsize=15)\n",
    "plt.xlabel(\"Entropy\",size=15)\n",
    "plt.ylabel(\"Density\",size=15)\n",
    "plt.savefig(\"B_Mono.png\",dpi=300)"
   ]
  },
  {
   "cell_type": "code",
   "execution_count": null,
   "metadata": {},
   "outputs": [],
   "source": []
  },
  {
   "cell_type": "code",
   "execution_count": null,
   "metadata": {},
   "outputs": [],
   "source": []
  }
 ],
 "metadata": {
  "kernelspec": {
   "display_name": "Python 3",
   "language": "python",
   "name": "python3"
  },
  "language_info": {
   "codemirror_mode": {
    "name": "ipython",
    "version": 3
   },
   "file_extension": ".py",
   "mimetype": "text/x-python",
   "name": "python",
   "nbconvert_exporter": "python",
   "pygments_lexer": "ipython3",
   "version": "3.6.8"
  }
 },
 "nbformat": 4,
 "nbformat_minor": 2
}
